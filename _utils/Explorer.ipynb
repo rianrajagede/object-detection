{
 "cells": [
  {
   "cell_type": "code",
   "execution_count": 1,
   "metadata": {},
   "outputs": [],
   "source": [
    "import pandas as pd"
   ]
  },
  {
   "cell_type": "code",
   "execution_count": 2,
   "metadata": {},
   "outputs": [
    {
     "name": "stdout",
     "output_type": "stream",
     "text": [
      "18\n",
      "17\n",
      "18\n",
      "8862\n"
     ]
    }
   ],
   "source": [
    "counter = {}\n",
    "i = 0\n",
    "\n",
    "train_df = pd.read_csv(\"train_labels.csv\")\n",
    "train_class = train_df[\"class\"].unique()\n",
    "print(\"class in data train\", len(train_df[\"class\"].unique()))\n",
    "for c in train_df[\"class\"]:\n",
    "    i+=1\n",
    "    counter[c] = counter.get(c, 0) + 1\n",
    "\n",
    "val_df = pd.read_csv(\"val_labels.csv\")\n",
    "val_class = val_df[\"class\"].unique()\n",
    "print(\"class in data val\", len(val_class))\n",
    "for c in val_df[\"class\"]:\n",
    "    i+=1\n",
    "    counter[c] = counter.get(c, 0) + 1\n",
    "    \n",
    "test_df = pd.read_csv(\"test_labels.csv\")\n",
    "test_class = test_df[\"class\"].unique()\n",
    "print(\"class in data test\", len(test_class))\n",
    "for c in test_df[\"class\"]:\n",
    "    i+=1\n",
    "    counter[c] = counter.get(c, 0) + 1\n",
    "\n",
    "print(\"num all data\", i)\n",
    "print(\"num all class\", len(counter))"
   ]
  },
  {
   "cell_type": "code",
   "execution_count": 4,
   "metadata": {},
   "outputs": [],
   "source": [
    "\"\"\"\n",
    "check if exist classes in val but not in train\n",
    "\"\"\"\n",
    "for i in val_class:\n",
    "    if i not in train_class:\n",
    "        print(i)"
   ]
  },
  {
   "cell_type": "code",
   "execution_count": 5,
   "metadata": {},
   "outputs": [],
   "source": [
    "\"\"\"\n",
    "check if exist classes in test but not in train and not in val\n",
    "\"\"\"\n",
    "for i in test_class:\n",
    "    if i not in train_class and i not in val_class:\n",
    "        print(i)"
   ]
  }
 ],
 "metadata": {
  "kernelspec": {
   "display_name": "Python 3",
   "language": "python",
   "name": "python3"
  },
  "language_info": {
   "codemirror_mode": {
    "name": "ipython",
    "version": 3
   },
   "file_extension": ".py",
   "mimetype": "text/x-python",
   "name": "python",
   "nbconvert_exporter": "python",
   "pygments_lexer": "ipython3",
   "version": "3.7.6"
  }
 },
 "nbformat": 4,
 "nbformat_minor": 4
}